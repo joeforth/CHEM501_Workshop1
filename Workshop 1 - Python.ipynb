{
 "cells": [
  {
   "cell_type": "markdown",
   "metadata": {},
   "source": [
    "<h1>Workshop 1 - Get the Data</h1>\n",
    "<b>For this part of the workshop, you'll need the same Arduino code that we used in Arduino Exercises - Exercise 3</b>\n",
    "\n",
    "In the next set of Python exercises, we'll look at different ways of reading, recording, and storing data from your Nicla.\n",
    "\n",
    "Work through the code below by entering it into your own Jupyter Notebook and exploring what it does."
   ]
  },
  {
   "cell_type": "markdown",
   "metadata": {},
   "source": [
    "<h2>Python Activity 1 - Data Wrangling the Hard Way</h2>\n",
    "\n",
    "We'll start by writing a minimal script that gathers data off your Nicla - over the workshop, we'll improve functionality and code quality.\n",
    "\n",
    "<h3> 1.1 - Import Some Libraries</h3>\n",
    "First, we'll import the libraries that Python needs for this exercise. Libraries are just bits of code that other people have written for us."
   ]
  },
  {
   "cell_type": "code",
   "execution_count": 2,
   "metadata": {},
   "outputs": [],
   "source": [
    "import serial\n",
    "import serial.tools.list_ports"
   ]
  },
  {
   "cell_type": "markdown",
   "metadata": {},
   "source": [
    "<h3> 1.2 - Find your Nicla</h3>\n",
    "Next, let's scan the Serial ports on your computer for any connected devices:"
   ]
  },
  {
   "cell_type": "code",
   "execution_count": 3,
   "metadata": {},
   "outputs": [
    {
     "name": "stdout",
     "output_type": "stream",
     "text": [
      "COM8 USB Serial Device (COM8)\n"
     ]
    }
   ],
   "source": [
    "# List the COM ports, and the devices that are connected to them\n",
    "ports = serial.tools.list_ports.comports()\n",
    "for n in ports:\n",
    "    print(n.device, n.description)\n"
   ]
  },
  {
   "cell_type": "markdown",
   "metadata": {},
   "source": [
    "<h3>1.3 - Talk to Your Nicla</h3>\n",
    "One of the listed ports should have some clue that it's associated with the Nicla. Copy the name of the most Nicla-looking port below and it should connect to the Arduino:"
   ]
  },
  {
   "cell_type": "code",
   "execution_count": 4,
   "metadata": {},
   "outputs": [],
   "source": [
    "dev = 'COM8'   # Note that the name of the port is a string\n",
    "nicla = serial.Serial(port=dev, baudrate=115200, timeout=.1)"
   ]
  },
  {
   "cell_type": "markdown",
   "metadata": {},
   "source": [
    "<h3>1.4 - Read Some Data</h3>\n",
    "Now let's get some data off our Nicla using the code below. "
   ]
  },
  {
   "cell_type": "code",
   "execution_count": 16,
   "metadata": {},
   "outputs": [
    {
     "data": {
      "text/plain": [
       "b'-135.00,39.00\\n181533.00,-4092.00,-124.00,21.00\\n181537.00,-4073.00,-127.00,10.00\\n181541.00,-4090.00,-115.00,36.00\\n181545.00,-4103.00,-110.00,25.00\\n181549.00,-4103.00,-130.00,11.00\\n181553.00,-4105.00,-111.00,31.00\\n181556.00,-4069.00,-135.00,7.00\\n181559.00,-4084.00,-124.00,-2.00\\n181563.00,-4111.00,-100'"
      ]
     },
     "execution_count": 16,
     "metadata": {},
     "output_type": "execute_result"
    }
   ],
   "source": [
    "n_bits = 10   # Number of bits to read\n",
    "\n",
    "# Clear the buffer for the Nicla serial port\n",
    "nicla.flush()\n",
    "nicla.reset_input_buffer()\n",
    "\n",
    "# Read the data\n",
    "data = nicla.read(n_bits)\n",
    "data\n"
   ]
  },
  {
   "cell_type": "markdown",
   "metadata": {},
   "source": [
    "<h3>Python Exercise 1.1</h3>\n",
    "Vary the value of n_bits until you see some repeating patterns.\n"
   ]
  },
  {
   "cell_type": "markdown",
   "metadata": {},
   "source": [
    "<h3>1.5 - Tidying up Data</h3>\n",
    "The output you get above is as bit of a mess, but in amongst the mess you can see some sensible things:\n",
    "\n",
    "<ol>\n",
    "  <li>The 'b' at the start - this means it's binary data</li>\n",
    "  <li>Numbers! These are clearly data</li>\n",
    "  <li>Commas - These separate the data points.</li>\n",
    "  <li>'\\n' - This marks the end of each loop that the Arduino writes.</li>\n",
    "</ol>\n",
    "\n",
    "Extract a single line of output from the Arduino.\n",
    "\n",
    "Our first friend is the <b>split</b> command:"
   ]
  },
  {
   "cell_type": "code",
   "execution_count": 17,
   "metadata": {},
   "outputs": [
    {
     "name": "stdout",
     "output_type": "stream",
     "text": [
      "Before we use split:\n",
      "b'-135.00,39.00\\n181533.00,-4092.00,-124.00,21.00\\n181537.00,-4073.00,-127.00,10.00\\n181541.00,-4090.00,-115.00,36.00\\n181545.00,-4103.00,-110.00,25.00\\n181549.00,-4103.00,-130.00,11.00\\n181553.00,-4105.00,-111.00,31.00\\n181556.00,-4069.00,-135.00,7.00\\n181559.00,-4084.00,-124.00,-2.00\\n181563.00,-4111.00,-100'\n",
      "After we use split:\n",
      "b'-135.00,39.00\n",
      "181533.00,-4092.00,-124.00,21.00\n",
      "181537.00,-4073.00,-127.00,10.00\n",
      "181541.00,-4090.00,-115.00,36.00\n",
      "181545.00,-4103.00,-110.00,25.00\n",
      "181549.00,-4103.00,-130.00,11.00\n",
      "181553.00,-4105.00,-111.00,31.00\n",
      "181556.00,-4069.00,-135.00,7.00\n",
      "181559.00,-4084.00,-124.00,-2.00\n",
      "181563.00,-4111.00,-100'\n"
     ]
    }
   ],
   "source": [
    "data1 = str(data)\n",
    "\n",
    "# Print data1 before and after we use split()\n",
    "print('Before we use split:')\n",
    "print(data1)\n",
    "data1 = data1.split('\\\\n')\n",
    "print('After we use split:')\n",
    "for n in data1:\n",
    "    print(n)\n"
   ]
  },
  {
   "cell_type": "markdown",
   "metadata": {},
   "source": [
    "<b>split</b> has broken the data into multiple lines. Now let's rummage through the data:"
   ]
  },
  {
   "cell_type": "code",
   "execution_count": 18,
   "metadata": {},
   "outputs": [
    {
     "name": "stdout",
     "output_type": "stream",
     "text": [
      "The first element in data1 is b'-135.00,39.00\n",
      "The second element in data1 is 181533.00,-4092.00,-124.00,21.00\n",
      "And it contains the following number of elements:\n"
     ]
    },
    {
     "data": {
      "text/plain": [
       "32"
      ]
     },
     "execution_count": 18,
     "metadata": {},
     "output_type": "execute_result"
    }
   ],
   "source": [
    "# You can select each line of the data by using data1[0], data1[1], etc.:\n",
    "data1[0]            # This selects the first element in data1\n",
    "print('The first element in data1 is', data1[0])     # Print the first element in data1\n",
    "\n",
    "# You can find out how many lines are in your data file using the len() function:\n",
    "print('The second element in data1 is', data1[1])     # This prints the second element in data1\n",
    "print('And it contains the following number of elements:')\n",
    "len(data1[1])       # This prints the length of th second element in data1\n"
   ]
  },
  {
   "cell_type": "markdown",
   "metadata": {},
   "source": [
    "If you print an element of data1, you can see that it's composed of elements separated by commas. Let's split it up again using the break command:"
   ]
  },
  {
   "cell_type": "code",
   "execution_count": 19,
   "metadata": {},
   "outputs": [
    {
     "name": "stdout",
     "output_type": "stream",
     "text": [
      "Before splitting, data1[1] looks like 181533.00,-4092.00,-124.00,21.00\n",
      "After splitting, data1[1] looks like ['181533.00', '-4092.00', '-124.00', '21.00']\n"
     ]
    }
   ],
   "source": [
    "data1_sub = data1[1]\n",
    "print('Before splitting, data1[1] looks like', data1_sub)\n",
    "print('After splitting, data1[1] looks like', data1_sub.split(','))"
   ]
  },
  {
   "cell_type": "markdown",
   "metadata": {},
   "source": [
    "<h3>Python Exercise 1.2</h3>\n",
    "Use a for loop like the one shown above to write code runs through each element of the list shown above, i.e., ['181533.00', '-4092.00', '-124.00', '21.00'] (obviously the numbers will different for your code) and prints out the name of each variable and the associated value.\n",
    "\n",
    "The first row of output for the example above would look like:\n",
    "\n",
    "Time - 181533.00 ms"
   ]
  },
  {
   "cell_type": "markdown",
   "metadata": {},
   "source": [
    "<h3>1.6 - Filtering Out Incomplete Readings</h3>\n",
    "You can see that each complete data line should have a certain number of elements - in this example 4. \n",
    "\n",
    "Let's scan through the data file, and extract the elements that have the right numbers of data points:"
   ]
  },
  {
   "cell_type": "code",
   "execution_count": 20,
   "metadata": {},
   "outputs": [
    {
     "data": {
      "text/plain": [
       "['181537.00,-4073.00,-127.00,10.00',\n",
       " '181541.00,-4090.00,-115.00,36.00',\n",
       " '181545.00,-4103.00,-110.00,25.00',\n",
       " '181549.00,-4103.00,-130.00,11.00',\n",
       " '181553.00,-4105.00,-111.00,31.00',\n",
       " '181556.00,-4069.00,-135.00,7.00',\n",
       " '181559.00,-4084.00,-124.00,-2.00']"
      ]
     },
     "execution_count": 20,
     "metadata": {},
     "output_type": "execute_result"
    }
   ],
   "source": [
    "# Create a list to store our good data points\n",
    "data2 = []\n",
    "\n",
    "for n in data1:\n",
    "    if len(n.split(',')) == 4:\n",
    "        data2.append(n)\n",
    "\n",
    "# Let's ignore the first row - which often contains bad data points\n",
    "data2 = data2[1:]\n",
    "data2\n"
   ]
  },
  {
   "cell_type": "markdown",
   "metadata": {},
   "source": [
    "<h3>Python Exercise 1.3</h3>\n",
    "Modify the above code so instead of skipping the first row, it outputs:\n",
    "\n",
    "1. Rows 2-5\n",
    "1. The list row in the list\n",
    "1. The same list, but in reverse order\n",
    "1. The second-to-last row.\n",
    "\n",
    "You'll find the internet is helpful in figuring out how to do this!"
   ]
  },
  {
   "cell_type": "markdown",
   "metadata": {},
   "source": [
    "<h3> 1.7 - Saving the Data</h3>\n",
    "This looks like progress! In the above example, we have 4 different datasets - one in each column. Let's a look at two different ways of turning this into a useful dataset:"
   ]
  },
  {
   "cell_type": "code",
   "execution_count": 21,
   "metadata": {},
   "outputs": [
    {
     "name": "stdout",
     "output_type": "stream",
     "text": [
      "['181537.00', '181541.00', '181545.00', '181549.00', '181553.00', '181556.00', '181559.00']\n",
      "['-4073.00', '-4090.00', '-4103.00', '-4103.00', '-4105.00', '-4069.00', '-4084.00']\n",
      "['-127.00', '-115.00', '-110.00', '-130.00', '-111.00', '-135.00', '-124.00']\n",
      "['10.00', '36.00', '25.00', '11.00', '31.00', '7.00', '-2.00']\n"
     ]
    }
   ],
   "source": [
    "# Now let's make 4 lists to store each data point\n",
    "time = []\n",
    "acc_x, acc_y, acc_z = [], [], []\n",
    "\n",
    "for row in data2:\n",
    "    point = row.split(',')\n",
    "    time.append(point[0])\n",
    "    acc_x.append(point[1])\n",
    "    acc_y.append(point[2])\n",
    "    acc_z.append(point[3])\n",
    "\n",
    "print(time)\n",
    "print(acc_x)\n",
    "print(acc_y)\n",
    "print(acc_z)\n"
   ]
  },
  {
   "cell_type": "markdown",
   "metadata": {},
   "source": [
    "Let's now write that to a data file. We'll first use Python's open command to open up a file to write to (if it doesn't exist already, Python will create it). We then sequentially write each data point and close the file.\n",
    "\n",
    "We call the file 'data_out.csv'. The './' at the start of the file directory tells python to create the file in the same directory as this code is located.\n",
    "\n"
   ]
  },
  {
   "cell_type": "code",
   "execution_count": 22,
   "metadata": {},
   "outputs": [],
   "source": [
    "file_out = open('./data_out.csv', 'w')\n",
    "for n in range(0, len(time)):\n",
    "    file_out.write(time[n] + ',' + acc_x[n] + ',' + acc_y[n] + ',' + acc_z[n] + '\\n')\n",
    "file_out.close()"
   ]
  },
  {
   "cell_type": "markdown",
   "metadata": {},
   "source": [
    "<h3>1.8 - Saving the Data a Bit Better</h3>\n",
    "You <b>should</b> now have a file in the same directory as this notebook called 'data_out.csv' that contains measurements from your Nicla. Open it up in Excel and check it's saved ok.\n",
    "\n",
    "It would be great if our columns had the names of each variable too. Let's add that to the file."
   ]
  },
  {
   "cell_type": "code",
   "execution_count": 23,
   "metadata": {},
   "outputs": [],
   "source": [
    "file_out = open('./data_out.csv', 'w')\n",
    "column_titles = ['time', 'acc_x', 'acc_y', 'acc_z']\n",
    "file_out.write(','.join(column_titles) + '\\n')\n",
    "\n",
    "for n in range(0, len(time)):\n",
    "    file_out.write(time[n] + ',' + acc_x[n] + ',' + acc_y[n] + ',' + acc_z[n] + '\\n')\n",
    "file_out.close()"
   ]
  },
  {
   "cell_type": "markdown",
   "metadata": {},
   "source": [
    "Note that - in the above code - we've used two different ways of writing a line of data. Both are fine!"
   ]
  },
  {
   "cell_type": "markdown",
   "metadata": {},
   "source": [
    "<h3>Python Exercise 1.4</h3>\n",
    "Modify the above code so it adds a 5th column of data - one that calculates the sum of the x, y, and z accelerations."
   ]
  },
  {
   "cell_type": "markdown",
   "metadata": {},
   "source": [
    "<h3>1.9 - Reading the Data Back In</h3>\n",
    "Finally - let's read out data back in to check everything's worked fine."
   ]
  },
  {
   "cell_type": "code",
   "execution_count": 24,
   "metadata": {},
   "outputs": [
    {
     "name": "stdout",
     "output_type": "stream",
     "text": [
      "['time', '181537.00', '181541.00', '181545.00', '181549.00', '181553.00', '181556.00', '181559.00']\n",
      "['acc_x', '-4073.00', '-4090.00', '-4103.00', '-4103.00', '-4105.00', '-4069.00', '-4084.00']\n",
      "['acc_y', '-127.00', '-115.00', '-110.00', '-130.00', '-111.00', '-135.00', '-124.00']\n",
      "['acc_z', '10.00', '36.00', '25.00', '11.00', '31.00', '7.00', '-2.00']\n"
     ]
    }
   ],
   "source": [
    "time = []\n",
    "acc_x, acc_y, acc_z = [], [], []\n",
    "\n",
    "file_path = './data_out.csv'\n",
    "\n",
    "# Open the file for reading using 'with' statement\n",
    "with open(file_path, 'r') as file_in:\n",
    "    # Read the file line by line using a for loop\n",
    "    for line in file_in:\n",
    "        # Process each line of the file\n",
    "        line = line.strip()\n",
    "        line = line.split(',')\n",
    "        time.append(line[0])\n",
    "        acc_x.append(line[1])\n",
    "        acc_y.append(line[2])\n",
    "        acc_z.append(line[3])\n",
    "\n",
    "print(time)\n",
    "print(acc_x)\n",
    "print(acc_y)\n",
    "print(acc_z)"
   ]
  },
  {
   "cell_type": "markdown",
   "metadata": {},
   "source": [
    "<h2>Python Activity 2 - Data Wrangling the Easy Way</h2>\n",
    "We can use libraries to handle the data a bit more easily. Here, we'll use some packages that you might have heard of:\n",
    "\n",
    "<ol>\n",
    "  <li>Pandas</li>\n",
    "  <li>Numpy</li>\n",
    "</ol>\n",
    "\n",
    "<h3>2.1 - Import Libraries</h3>"
   ]
  },
  {
   "cell_type": "code",
   "execution_count": 25,
   "metadata": {},
   "outputs": [],
   "source": [
    "import pandas as pd\n",
    "import numpy as np"
   ]
  },
  {
   "cell_type": "markdown",
   "metadata": {},
   "source": [
    "<h3> 2.2 - Talk to Your Nicla</h3>\n",
    "\n",
    "Here, we'll use an <b>if</b> statement to automatically pick the port to connect to:"
   ]
  },
  {
   "cell_type": "code",
   "execution_count": 28,
   "metadata": {},
   "outputs": [
    {
     "name": "stdout",
     "output_type": "stream",
     "text": [
      "COM8 USB Serial Device (COM8)\n"
     ]
    }
   ],
   "source": [
    "ports = serial.tools.list_ports.comports()\n",
    "\n",
    "# For Mac users this works well:\n",
    "for n in ports:\n",
    "    print(n.device, n.description)\n",
    "    if 'Nicla' in n.description:\n",
    "        dev = n.device\n",
    "nicla = serial.Serial(port=dev, baudrate=115200, timeout=.1)\n",
    "\n",
    "# For Windows users, you have to use the code below and manually set the port:\n",
    "for n in ports:\n",
    "    print(n.device, n.description)\n",
    "\n",
    "dev = 'COM8'\n",
    "nicla = serial.Serial(port=dev, baudrate=115200, timeout=.1)\n"
   ]
  },
  {
   "cell_type": "markdown",
   "metadata": {},
   "source": [
    "<h3>Python Exercise 2.1</h3>\n",
    "Modify the above code so that it runs on your computer."
   ]
  },
  {
   "cell_type": "markdown",
   "metadata": {},
   "source": [
    "<h3>2.3 - Get Data the Cleaner Way </h3>\n",
    "We'll use two functions from <b>numpy</b> - <b>zeros</b> and <b>fromstring</b> - to read the data from the Arduino into an array this a way of storing data that's easier to manipulate."
   ]
  },
  {
   "cell_type": "code",
   "execution_count": 30,
   "metadata": {},
   "outputs": [
    {
     "data": {
      "text/plain": [
       "array([[    0.,     0.,     0.,     0.],\n",
       "       [    0.,     0.,     0.,     0.],\n",
       "       [    0.,     0.,     0.,     0.],\n",
       "       [    0.,     0.,     0.,     0.],\n",
       "       [19374., -4100.,   -49.,   171.],\n",
       "       [19377., -4087.,   -63.,   160.],\n",
       "       [19382., -4077.,   -98.,   140.],\n",
       "       [19385., -4100.,   -63.,   144.],\n",
       "       [19388., -4114.,   -52.,   174.],\n",
       "       [19391., -4069.,   -99.,   142.],\n",
       "       [19394., -4069.,   -77.,   141.],\n",
       "       [    0.,     0.,     0.,     0.],\n",
       "       [24298., -4104.,   -61.,   168.],\n",
       "       [24301., -4103.,   -78.,   153.],\n",
       "       [24305., -4074.,   -91.,   142.],\n",
       "       [24309., -4118.,   -63.,   169.],\n",
       "       [24312., -4069.,  -117.,   152.],\n",
       "       [24316., -4073.,   -91.,   137.],\n",
       "       [24320., -4117.,   -57.,   179.],\n",
       "       [24323., -4081.,   -88.,   153.]])"
      ]
     },
     "execution_count": 30,
     "metadata": {},
     "output_type": "execute_result"
    }
   ],
   "source": [
    "# Clear the buffer for the Nicla serial port\n",
    "nicla.flush()\n",
    "nicla.reset_input_buffer()\n",
    "\n",
    "n_readings = 20\n",
    "\n",
    "# Create a table to store the data\n",
    "data_table = np.zeros((n_readings,4))\n",
    "\n",
    "for n in range(n_readings):\n",
    "    data = nicla.readline()\n",
    "\n",
    "    data = np.fromstring(data, sep=',')\n",
    "\n",
    "    if len(data) == 4:\n",
    "        data_table[n,:] = data\n",
    "\n",
    "data_table"
   ]
  },
  {
   "cell_type": "markdown",
   "metadata": {},
   "source": [
    "<h3>Python Exercise 2.2</h3>\n",
    "Modify the above code so that it records 1, 5, and 20 lines of data from the Nicla."
   ]
  },
  {
   "cell_type": "markdown",
   "metadata": {},
   "source": [
    "<h3>2.4 - Save the Data the Cleaner Way</h3>\n",
    "Next we'll use <b>pandas</b> to create a DataFrame. This is a way of storing data that, again, allows us to manipulate and save data easily.\n",
    "\n",
    "First, we'll remove the first row of data as that's always a bit rubbish (we'll look at a smarter way of treating this next time) and then we'll save the data file."
   ]
  },
  {
   "cell_type": "code",
   "execution_count": 31,
   "metadata": {},
   "outputs": [],
   "source": [
    "# Remove the often-rubbish first row of data\n",
    "data_table = data_table[1:]\n",
    "column_titles = ['time', 'acc_x', 'acc_y', 'acc_z']\n",
    "\n",
    "data_table = pd.DataFrame(data_table, columns=column_titles)\n",
    "data_table.to_csv('./data_table.csv', header=column_titles, index=False)\n"
   ]
  },
  {
   "cell_type": "markdown",
   "metadata": {},
   "source": [
    "<h3>2.5 - Checking Everything's Worked</h3>\n",
    "Now let's use pandas again to open up the file and check everthing's worked ok."
   ]
  },
  {
   "cell_type": "code",
   "execution_count": 5,
   "metadata": {},
   "outputs": [
    {
     "data": {
      "text/html": [
       "<div>\n",
       "<style scoped>\n",
       "    .dataframe tbody tr th:only-of-type {\n",
       "        vertical-align: middle;\n",
       "    }\n",
       "\n",
       "    .dataframe tbody tr th {\n",
       "        vertical-align: top;\n",
       "    }\n",
       "\n",
       "    .dataframe thead th {\n",
       "        text-align: right;\n",
       "    }\n",
       "</style>\n",
       "<table border=\"1\" class=\"dataframe\">\n",
       "  <thead>\n",
       "    <tr style=\"text-align: right;\">\n",
       "      <th></th>\n",
       "      <th>time</th>\n",
       "      <th>acc_x</th>\n",
       "      <th>acc_y</th>\n",
       "      <th>acc_z</th>\n",
       "    </tr>\n",
       "  </thead>\n",
       "  <tbody>\n",
       "    <tr>\n",
       "      <th>0</th>\n",
       "      <td>0.0</td>\n",
       "      <td>0.0</td>\n",
       "      <td>0.0</td>\n",
       "      <td>0.0</td>\n",
       "    </tr>\n",
       "    <tr>\n",
       "      <th>1</th>\n",
       "      <td>0.0</td>\n",
       "      <td>0.0</td>\n",
       "      <td>0.0</td>\n",
       "      <td>0.0</td>\n",
       "    </tr>\n",
       "    <tr>\n",
       "      <th>2</th>\n",
       "      <td>0.0</td>\n",
       "      <td>0.0</td>\n",
       "      <td>0.0</td>\n",
       "      <td>0.0</td>\n",
       "    </tr>\n",
       "    <tr>\n",
       "      <th>3</th>\n",
       "      <td>19374.0</td>\n",
       "      <td>-4100.0</td>\n",
       "      <td>-49.0</td>\n",
       "      <td>171.0</td>\n",
       "    </tr>\n",
       "    <tr>\n",
       "      <th>4</th>\n",
       "      <td>19377.0</td>\n",
       "      <td>-4087.0</td>\n",
       "      <td>-63.0</td>\n",
       "      <td>160.0</td>\n",
       "    </tr>\n",
       "    <tr>\n",
       "      <th>5</th>\n",
       "      <td>19382.0</td>\n",
       "      <td>-4077.0</td>\n",
       "      <td>-98.0</td>\n",
       "      <td>140.0</td>\n",
       "    </tr>\n",
       "    <tr>\n",
       "      <th>6</th>\n",
       "      <td>19385.0</td>\n",
       "      <td>-4100.0</td>\n",
       "      <td>-63.0</td>\n",
       "      <td>144.0</td>\n",
       "    </tr>\n",
       "    <tr>\n",
       "      <th>7</th>\n",
       "      <td>19388.0</td>\n",
       "      <td>-4114.0</td>\n",
       "      <td>-52.0</td>\n",
       "      <td>174.0</td>\n",
       "    </tr>\n",
       "    <tr>\n",
       "      <th>8</th>\n",
       "      <td>19391.0</td>\n",
       "      <td>-4069.0</td>\n",
       "      <td>-99.0</td>\n",
       "      <td>142.0</td>\n",
       "    </tr>\n",
       "    <tr>\n",
       "      <th>9</th>\n",
       "      <td>19394.0</td>\n",
       "      <td>-4069.0</td>\n",
       "      <td>-77.0</td>\n",
       "      <td>141.0</td>\n",
       "    </tr>\n",
       "    <tr>\n",
       "      <th>10</th>\n",
       "      <td>0.0</td>\n",
       "      <td>0.0</td>\n",
       "      <td>0.0</td>\n",
       "      <td>0.0</td>\n",
       "    </tr>\n",
       "    <tr>\n",
       "      <th>11</th>\n",
       "      <td>24298.0</td>\n",
       "      <td>-4104.0</td>\n",
       "      <td>-61.0</td>\n",
       "      <td>168.0</td>\n",
       "    </tr>\n",
       "    <tr>\n",
       "      <th>12</th>\n",
       "      <td>24301.0</td>\n",
       "      <td>-4103.0</td>\n",
       "      <td>-78.0</td>\n",
       "      <td>153.0</td>\n",
       "    </tr>\n",
       "    <tr>\n",
       "      <th>13</th>\n",
       "      <td>24305.0</td>\n",
       "      <td>-4074.0</td>\n",
       "      <td>-91.0</td>\n",
       "      <td>142.0</td>\n",
       "    </tr>\n",
       "    <tr>\n",
       "      <th>14</th>\n",
       "      <td>24309.0</td>\n",
       "      <td>-4118.0</td>\n",
       "      <td>-63.0</td>\n",
       "      <td>169.0</td>\n",
       "    </tr>\n",
       "    <tr>\n",
       "      <th>15</th>\n",
       "      <td>24312.0</td>\n",
       "      <td>-4069.0</td>\n",
       "      <td>-117.0</td>\n",
       "      <td>152.0</td>\n",
       "    </tr>\n",
       "    <tr>\n",
       "      <th>16</th>\n",
       "      <td>24316.0</td>\n",
       "      <td>-4073.0</td>\n",
       "      <td>-91.0</td>\n",
       "      <td>137.0</td>\n",
       "    </tr>\n",
       "    <tr>\n",
       "      <th>17</th>\n",
       "      <td>24320.0</td>\n",
       "      <td>-4117.0</td>\n",
       "      <td>-57.0</td>\n",
       "      <td>179.0</td>\n",
       "    </tr>\n",
       "    <tr>\n",
       "      <th>18</th>\n",
       "      <td>24323.0</td>\n",
       "      <td>-4081.0</td>\n",
       "      <td>-88.0</td>\n",
       "      <td>153.0</td>\n",
       "    </tr>\n",
       "  </tbody>\n",
       "</table>\n",
       "</div>"
      ],
      "text/plain": [
       "       time   acc_x  acc_y  acc_z\n",
       "0       0.0     0.0    0.0    0.0\n",
       "1       0.0     0.0    0.0    0.0\n",
       "2       0.0     0.0    0.0    0.0\n",
       "3   19374.0 -4100.0  -49.0  171.0\n",
       "4   19377.0 -4087.0  -63.0  160.0\n",
       "5   19382.0 -4077.0  -98.0  140.0\n",
       "6   19385.0 -4100.0  -63.0  144.0\n",
       "7   19388.0 -4114.0  -52.0  174.0\n",
       "8   19391.0 -4069.0  -99.0  142.0\n",
       "9   19394.0 -4069.0  -77.0  141.0\n",
       "10      0.0     0.0    0.0    0.0\n",
       "11  24298.0 -4104.0  -61.0  168.0\n",
       "12  24301.0 -4103.0  -78.0  153.0\n",
       "13  24305.0 -4074.0  -91.0  142.0\n",
       "14  24309.0 -4118.0  -63.0  169.0\n",
       "15  24312.0 -4069.0 -117.0  152.0\n",
       "16  24316.0 -4073.0  -91.0  137.0\n",
       "17  24320.0 -4117.0  -57.0  179.0\n",
       "18  24323.0 -4081.0  -88.0  153.0"
      ]
     },
     "execution_count": 5,
     "metadata": {},
     "output_type": "execute_result"
    }
   ],
   "source": [
    "data = pd.read_csv('./data_table.csv')\n",
    "data"
   ]
  },
  {
   "cell_type": "markdown",
   "metadata": {},
   "source": [
    "<h3>2.6 Saving Multiple Datasets</h3>\n",
    "Say you want to save a bunch of datasets? Let's write a function to do this:"
   ]
  },
  {
   "cell_type": "code",
   "execution_count": 6,
   "metadata": {},
   "outputs": [],
   "source": [
    "n_files = 10\n",
    "filename = 'data_out'\n",
    "\n",
    "def data_save(filename_in, n_files_in):\n",
    "    for n in range(0, n_files_in):\n",
    "        data.to_csv(filename_in + str(n) + '.csv')\n",
    "\n",
    "data_save(filename, n_files)\n"
   ]
  },
  {
   "cell_type": "markdown",
   "metadata": {},
   "source": [
    "The above example is sort of pointless - it just saves the same file over and over again but gives it a different name.\n",
    "However - functions are important for keping your code tidy, and we'll use them over and over again during this course. Speaking of which..."
   ]
  },
  {
   "cell_type": "markdown",
   "metadata": {},
   "source": [
    "<h1>Final Python Exercise - Writing a Single Script</h1>\n",
    "Produce a single script that connects to the Nicla, acquires data from it, and saves the data. Combine all the elements above to write a script that saves 1, 5, and 10 different datasets, each with a different filename. Make sure you keep your code tidy by putting it in a function."
   ]
  },
  {
   "cell_type": "markdown",
   "metadata": {},
   "source": [
    "<b>End of the Python exercises - you can go back to the word doc now!</b>"
   ]
  },
  {
   "cell_type": "markdown",
   "metadata": {},
   "source": []
  }
 ],
 "metadata": {
  "kernelspec": {
   "display_name": "Python 3 (ipykernel)",
   "language": "python",
   "name": "python3"
  },
  "language_info": {
   "codemirror_mode": {
    "name": "ipython",
    "version": 3
   },
   "file_extension": ".py",
   "mimetype": "text/x-python",
   "name": "python",
   "nbconvert_exporter": "python",
   "pygments_lexer": "ipython3",
   "version": "3.10.9"
  }
 },
 "nbformat": 4,
 "nbformat_minor": 4
}
